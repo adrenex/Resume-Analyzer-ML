{
 "cells": [
  {
   "cell_type": "code",
   "execution_count": 1,
   "id": "4cef981c",
   "metadata": {},
   "outputs": [],
   "source": [
    "import pickle\n",
    "import pandas as pd\n",
    "from PyPDF2 import PdfReader\n",
    "import plyer\n",
    "import re"
   ]
  },
  {
   "cell_type": "code",
   "execution_count": 2,
   "id": "645608da",
   "metadata": {},
   "outputs": [],
   "source": [
    "pkl_file = open('label.pkl', 'rb')\n",
    "le = pickle.load(pkl_file) \n",
    "pkl_file.close()"
   ]
  },
  {
   "cell_type": "code",
   "execution_count": 3,
   "id": "91ab0a51",
   "metadata": {},
   "outputs": [],
   "source": [
    "models = [\"LogisticRegression.pk\", \"K-NearestNeighbors.pk\", \"SupportVectorMachine.pk\", \"RandomForest.pk\", \"GradientBoosting.pk\"]\n",
    "pipelines = []\n",
    "\n",
    "for i in models:\n",
    "    with open(\"Models/\" + i ,'rb') as f:\n",
    "        pipelines.append(pickle.load(f))"
   ]
  },
  {
   "cell_type": "code",
   "execution_count": 8,
   "id": "3a15e0e6",
   "metadata": {},
   "outputs": [
    {
     "ename": "IndexError",
     "evalue": "list index out of range",
     "output_type": "error",
     "traceback": [
      "\u001b[1;31m---------------------------------------------------------------------------\u001b[0m",
      "\u001b[1;31mIndexError\u001b[0m                                Traceback (most recent call last)",
      "Input \u001b[1;32mIn [8]\u001b[0m, in \u001b[0;36m<cell line: 2>\u001b[1;34m()\u001b[0m\n\u001b[0;32m      1\u001b[0m pathy \u001b[38;5;241m=\u001b[39m plyer\u001b[38;5;241m.\u001b[39mfilechooser\u001b[38;5;241m.\u001b[39mopen_file()\n\u001b[1;32m----> 2\u001b[0m \u001b[38;5;28mstr\u001b[39m \u001b[38;5;241m=\u001b[39m \u001b[43mpathy\u001b[49m\u001b[43m[\u001b[49m\u001b[38;5;241;43m0\u001b[39;49m\u001b[43m]\u001b[49m\n\u001b[0;32m      3\u001b[0m reader \u001b[38;5;241m=\u001b[39m PdfReader(\u001b[38;5;28mstr\u001b[39m)\n\u001b[0;32m      4\u001b[0m page \u001b[38;5;241m=\u001b[39m reader\u001b[38;5;241m.\u001b[39mpages[\u001b[38;5;241m0\u001b[39m]\n",
      "\u001b[1;31mIndexError\u001b[0m: list index out of range"
     ]
    }
   ],
   "source": [
    "pathy = plyer.filechooser.open_file()\n",
    "str = pathy[0]\n",
    "reader = PdfReader(str)\n",
    "page = reader.pages[0]\n",
    "text = page.extract_text()\n",
    "print(text)"
   ]
  },
  {
   "cell_type": "code",
   "execution_count": 5,
   "id": "77827a95",
   "metadata": {},
   "outputs": [
    {
     "name": "stdout",
     "output_type": "stream",
     "text": [
      "Civil Engineer ROBE SMITHPhone 123 456 78 99 Email info Website www qwikresume com LinkedIn linkedin com qwikresume Address 1737 Marshville Road Alabama Objective A Civil Engineer with 4 years of experience in construction and infrastructure projects like chicken farm warehouses residential buildings villas and water channels Experience in site supervision construction works a ountancy tendering and evaluation Experience in prestressing detailed drawings Knowledge of construction methods and construction sequences in civil structural constructions above or below the ground Skills Microsoft Office GIS SAP2000 StruCalc ETABS AutoCad MicroStation Civil 3D C Matlab InfoWater Work Experience Civil Engineer ABC Corporation February 2014 August 2015 Evaluate subdivision cluster and other application requests from the Department of Planning and Permitting with respect to availability of water past commitments and facility requirements Does manual calculations to determine fire flows and system pressures Uses hydraulic models to calculate system flows and pressures Develops computerized hydraulic models of water systems Does basic calculations to ensure that the size of storage reservoirs booster stations and source pumps and water mains adequately meet the requirements of the Water System Standards Evaluate departmental reviews of general plan and designated land use map zone change requests special and conditional use permits and shoreline management applications Calculate cost estimates of development proposals requested by other public agencies Civil Engineer ABC Corporation 2011 2014 Delivery of mining samples from tipple to Assay Department Remove trash residual building debris and potential dangerous materials from milling sites Worked in the payroll section as timekeeper Computation of mill data production output Maintains project schedule by monitoring project progress coordinating activities and resolving problems Supervise sub contractors and other labor workers Oversee site operations Education M S in structural engineering 2013 University of Hawaii at Manoa This Free Resume Template is the copyright of Qwikresume com Usage Guidelines\n"
     ]
    }
   ],
   "source": [
    "def clean_function(resumeText):\n",
    "    resumeText = re.sub('http\\S+\\s*', ' ', resumeText)  # remove URLs\n",
    "    resumeText = re.sub('RT|cc', ' ', resumeText)  # remove RT and cc\n",
    "    resumeText = re.sub('#\\S+', '', resumeText)  # remove hashtags\n",
    "    resumeText = re.sub('@\\S+', '  ', resumeText)  # remove mentions\n",
    "    resumeText = re.sub('[%s]' % re.escape(\"\"\"!\"#$%&'()*+,-./:;<=>?@[\\]^_`{|}~\"\"\"), ' ', resumeText)  # remove punctuations\n",
    "    resumeText = re.sub(r'[^\\x00-\\x7f]',r' ', resumeText) \n",
    "    resumeText = re.sub('\\s+', ' ', resumeText)  # remove extra whitespace\n",
    "    return resumeText\n",
    "\n",
    "text = clean_function(text)\n",
    "print(text)"
   ]
  },
  {
   "cell_type": "code",
   "execution_count": 6,
   "id": "1b24e0d3",
   "metadata": {},
   "outputs": [],
   "source": [
    "data = {'Text': [text]}  \n",
    "df = pd.DataFrame(data)  \n",
    "X = df['Text'].copy()"
   ]
  },
  {
   "cell_type": "code",
   "execution_count": 7,
   "id": "36bdbf0e",
   "metadata": {},
   "outputs": [
    {
     "name": "stdout",
     "output_type": "stream",
     "text": [
      "['Civil Engineer']\n",
      "['Civil Engineer']\n",
      "['Civil Engineer']\n",
      "['Civil Engineer']\n",
      "['Civil Engineer']\n"
     ]
    }
   ],
   "source": [
    "for model in pipelines:\n",
    "    print(list(le.inverse_transform(model.predict(X))))"
   ]
  },
  {
   "cell_type": "code",
   "execution_count": null,
   "id": "3a7ea857",
   "metadata": {},
   "outputs": [],
   "source": []
  }
 ],
 "metadata": {
  "kernelspec": {
   "display_name": "Python 3 (ipykernel)",
   "language": "python",
   "name": "python3"
  },
  "language_info": {
   "codemirror_mode": {
    "name": "ipython",
    "version": 3
   },
   "file_extension": ".py",
   "mimetype": "text/x-python",
   "name": "python",
   "nbconvert_exporter": "python",
   "pygments_lexer": "ipython3",
   "version": "3.9.12"
  }
 },
 "nbformat": 4,
 "nbformat_minor": 5
}
